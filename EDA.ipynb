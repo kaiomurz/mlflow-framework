{
 "cells": [
  {
   "cell_type": "code",
   "execution_count": 57,
   "metadata": {},
   "outputs": [],
   "source": [
    "import numpy as np\n",
    "import pandas as pd\n",
    "import matplotlib.pyplot as plt\n",
    "import seaborn as sns\n"
   ]
  },
  {
   "cell_type": "code",
   "execution_count": 58,
   "metadata": {},
   "outputs": [
    {
     "data": {
      "text/html": [
       "<div>\n",
       "<style scoped>\n",
       "    .dataframe tbody tr th:only-of-type {\n",
       "        vertical-align: middle;\n",
       "    }\n",
       "\n",
       "    .dataframe tbody tr th {\n",
       "        vertical-align: top;\n",
       "    }\n",
       "\n",
       "    .dataframe thead th {\n",
       "        text-align: right;\n",
       "    }\n",
       "</style>\n",
       "<table border=\"1\" class=\"dataframe\">\n",
       "  <thead>\n",
       "    <tr style=\"text-align: right;\">\n",
       "      <th></th>\n",
       "      <th>Date Time</th>\n",
       "      <th>p (mbar)</th>\n",
       "      <th>T (degC)</th>\n",
       "      <th>Tpot (K)</th>\n",
       "      <th>Tdew (degC)</th>\n",
       "      <th>rh (%)</th>\n",
       "      <th>VPmax (mbar)</th>\n",
       "      <th>VPact (mbar)</th>\n",
       "      <th>VPdef (mbar)</th>\n",
       "      <th>sh (g/kg)</th>\n",
       "      <th>H2OC (mmol/mol)</th>\n",
       "      <th>rho (g/m**3)</th>\n",
       "      <th>wv (m/s)</th>\n",
       "      <th>max. wv (m/s)</th>\n",
       "      <th>wd (deg)</th>\n",
       "    </tr>\n",
       "  </thead>\n",
       "  <tbody>\n",
       "    <tr>\n",
       "      <th>0</th>\n",
       "      <td>01.01.2009 00:10:00</td>\n",
       "      <td>996.52</td>\n",
       "      <td>-8.02</td>\n",
       "      <td>265.40</td>\n",
       "      <td>-8.90</td>\n",
       "      <td>93.3</td>\n",
       "      <td>3.33</td>\n",
       "      <td>3.11</td>\n",
       "      <td>0.22</td>\n",
       "      <td>1.94</td>\n",
       "      <td>3.12</td>\n",
       "      <td>1307.75</td>\n",
       "      <td>1.03</td>\n",
       "      <td>1.75</td>\n",
       "      <td>152.3</td>\n",
       "    </tr>\n",
       "    <tr>\n",
       "      <th>1</th>\n",
       "      <td>01.01.2009 00:20:00</td>\n",
       "      <td>996.57</td>\n",
       "      <td>-8.41</td>\n",
       "      <td>265.01</td>\n",
       "      <td>-9.28</td>\n",
       "      <td>93.4</td>\n",
       "      <td>3.23</td>\n",
       "      <td>3.02</td>\n",
       "      <td>0.21</td>\n",
       "      <td>1.89</td>\n",
       "      <td>3.03</td>\n",
       "      <td>1309.80</td>\n",
       "      <td>0.72</td>\n",
       "      <td>1.50</td>\n",
       "      <td>136.1</td>\n",
       "    </tr>\n",
       "    <tr>\n",
       "      <th>2</th>\n",
       "      <td>01.01.2009 00:30:00</td>\n",
       "      <td>996.53</td>\n",
       "      <td>-8.51</td>\n",
       "      <td>264.91</td>\n",
       "      <td>-9.31</td>\n",
       "      <td>93.9</td>\n",
       "      <td>3.21</td>\n",
       "      <td>3.01</td>\n",
       "      <td>0.20</td>\n",
       "      <td>1.88</td>\n",
       "      <td>3.02</td>\n",
       "      <td>1310.24</td>\n",
       "      <td>0.19</td>\n",
       "      <td>0.63</td>\n",
       "      <td>171.6</td>\n",
       "    </tr>\n",
       "    <tr>\n",
       "      <th>3</th>\n",
       "      <td>01.01.2009 00:40:00</td>\n",
       "      <td>996.51</td>\n",
       "      <td>-8.31</td>\n",
       "      <td>265.12</td>\n",
       "      <td>-9.07</td>\n",
       "      <td>94.2</td>\n",
       "      <td>3.26</td>\n",
       "      <td>3.07</td>\n",
       "      <td>0.19</td>\n",
       "      <td>1.92</td>\n",
       "      <td>3.08</td>\n",
       "      <td>1309.19</td>\n",
       "      <td>0.34</td>\n",
       "      <td>0.50</td>\n",
       "      <td>198.0</td>\n",
       "    </tr>\n",
       "    <tr>\n",
       "      <th>4</th>\n",
       "      <td>01.01.2009 00:50:00</td>\n",
       "      <td>996.51</td>\n",
       "      <td>-8.27</td>\n",
       "      <td>265.15</td>\n",
       "      <td>-9.04</td>\n",
       "      <td>94.1</td>\n",
       "      <td>3.27</td>\n",
       "      <td>3.08</td>\n",
       "      <td>0.19</td>\n",
       "      <td>1.92</td>\n",
       "      <td>3.09</td>\n",
       "      <td>1309.00</td>\n",
       "      <td>0.32</td>\n",
       "      <td>0.63</td>\n",
       "      <td>214.3</td>\n",
       "    </tr>\n",
       "  </tbody>\n",
       "</table>\n",
       "</div>"
      ],
      "text/plain": [
       "             Date Time  p (mbar)  T (degC)  Tpot (K)  Tdew (degC)  rh (%)  \\\n",
       "0  01.01.2009 00:10:00    996.52     -8.02    265.40        -8.90    93.3   \n",
       "1  01.01.2009 00:20:00    996.57     -8.41    265.01        -9.28    93.4   \n",
       "2  01.01.2009 00:30:00    996.53     -8.51    264.91        -9.31    93.9   \n",
       "3  01.01.2009 00:40:00    996.51     -8.31    265.12        -9.07    94.2   \n",
       "4  01.01.2009 00:50:00    996.51     -8.27    265.15        -9.04    94.1   \n",
       "\n",
       "   VPmax (mbar)  VPact (mbar)  VPdef (mbar)  sh (g/kg)  H2OC (mmol/mol)  \\\n",
       "0          3.33          3.11          0.22       1.94             3.12   \n",
       "1          3.23          3.02          0.21       1.89             3.03   \n",
       "2          3.21          3.01          0.20       1.88             3.02   \n",
       "3          3.26          3.07          0.19       1.92             3.08   \n",
       "4          3.27          3.08          0.19       1.92             3.09   \n",
       "\n",
       "   rho (g/m**3)  wv (m/s)  max. wv (m/s)  wd (deg)  \n",
       "0       1307.75      1.03           1.75     152.3  \n",
       "1       1309.80      0.72           1.50     136.1  \n",
       "2       1310.24      0.19           0.63     171.6  \n",
       "3       1309.19      0.34           0.50     198.0  \n",
       "4       1309.00      0.32           0.63     214.3  "
      ]
     },
     "execution_count": 58,
     "metadata": {},
     "output_type": "execute_result"
    }
   ],
   "source": [
    "data = pd.read_csv('jena_climate_2009_2016.csv')\n",
    "data.head()"
   ]
  },
  {
   "cell_type": "markdown",
   "metadata": {},
   "source": [
    "Check the data types to see if we need to change any. Turns out all the columns except date_time are appropriately typed."
   ]
  },
  {
   "cell_type": "code",
   "execution_count": 59,
   "metadata": {},
   "outputs": [
    {
     "data": {
      "text/plain": [
       "Date Time           object\n",
       "p (mbar)           float64\n",
       "T (degC)           float64\n",
       "Tpot (K)           float64\n",
       "Tdew (degC)        float64\n",
       "rh (%)             float64\n",
       "VPmax (mbar)       float64\n",
       "VPact (mbar)       float64\n",
       "VPdef (mbar)       float64\n",
       "sh (g/kg)          float64\n",
       "H2OC (mmol/mol)    float64\n",
       "rho (g/m**3)       float64\n",
       "wv (m/s)           float64\n",
       "max. wv (m/s)      float64\n",
       "wd (deg)           float64\n",
       "dtype: object"
      ]
     },
     "execution_count": 59,
     "metadata": {},
     "output_type": "execute_result"
    }
   ],
   "source": [
    "data.dtypes"
   ]
  },
  {
   "cell_type": "markdown",
   "metadata": {},
   "source": [
    "A look at the definitions of the various columns on the [Kaggle page](https://www.kaggle.com/datasets/mnassrib/jena-climate) tells us that \n",
    "1. TPot is simply T in degrees Kelvin, so we can drop it and\n",
    "2. VPdef is the vapour pressure deficit, which is simply the difference between VPMax (max vapour pressure) and VPact (actual vapour pressure). Therefore there's no need to have that as a feature. (it could make an interesting target, though.)"
   ]
  },
  {
   "cell_type": "code",
   "execution_count": 60,
   "metadata": {},
   "outputs": [],
   "source": [
    "data = data.drop('Tpot (K)', axis=1)"
   ]
  },
  {
   "cell_type": "markdown",
   "metadata": {},
   "source": [
    "Rename the columns with more readable titles"
   ]
  },
  {
   "cell_type": "code",
   "execution_count": 61,
   "metadata": {},
   "outputs": [
    {
     "data": {
      "text/plain": [
       "Index(['Date Time', 'p (mbar)', 'T (degC)', 'Tdew (degC)', 'rh (%)',\n",
       "       'VPmax (mbar)', 'VPact (mbar)', 'VPdef (mbar)', 'sh (g/kg)',\n",
       "       'H2OC (mmol/mol)', 'rho (g/m**3)', 'wv (m/s)', 'max. wv (m/s)',\n",
       "       'wd (deg)'],\n",
       "      dtype='object')"
      ]
     },
     "execution_count": 61,
     "metadata": {},
     "output_type": "execute_result"
    }
   ],
   "source": [
    "data.columns\n"
   ]
  },
  {
   "cell_type": "code",
   "execution_count": 62,
   "metadata": {},
   "outputs": [],
   "source": [
    "renamer = {\n",
    "    'Date Time': \"date_time\",\n",
    "    'p (mbar)': \"pressure\", # air pressure in millibars\n",
    "    'T (degC)': \"temp\", # air temperature in degrees Celsius\n",
    "    'Tdew (degC)': \"dew_temp\", # dew temperature in degrees Celsius\n",
    "    'rh (%)': \"rel_hum\", # relative humidity\n",
    "    'VPmax (mbar)': \"max_vap_press\", # saturation vapour pressure in millibars\n",
    "    'VPact (mbar)': \"actual_vap_press\", # actual vapour pressure in millibars\n",
    "    'VPdef (mbar)': \"vap_press_deficit\", # vapour pressure deficit in millibars\n",
    "    'sh (g/kg)': \"spec_hum\", # specific humidity g of water in kg of air\n",
    "    'H2OC (mmol/mol)': \"wv_conc\", # water vapour concentration millimoles of water/mole of air\n",
    "    'rho (g/m**3)': \"air_density\", # density of air\n",
    "    'wv (m/s)': \"wind_speed\",\n",
    "    'max. wv (m/s)': \"max_wind_speed\",\n",
    "    'wd (deg)': \"wind_direction\"\n",
    "}\n",
    "\n",
    "new_columns = [renamer[column] for column in data.columns]"
   ]
  },
  {
   "cell_type": "markdown",
   "metadata": {},
   "source": [
    "Check if new names are aligned properly with old ones"
   ]
  },
  {
   "cell_type": "code",
   "execution_count": 63,
   "metadata": {},
   "outputs": [
    {
     "name": "stdout",
     "output_type": "stream",
     "text": [
      "Date Time:   date_time\n",
      "p (mbar):   pressure\n",
      "T (degC):   temp\n",
      "Tdew (degC):   dew_temp\n",
      "rh (%):   rel_hum\n",
      "VPmax (mbar):   max_vap_press\n",
      "VPact (mbar):   actual_vap_press\n",
      "VPdef (mbar):   vap_press_deficit\n",
      "sh (g/kg):   spec_hum\n",
      "H2OC (mmol/mol):   wv_conc\n",
      "rho (g/m**3):   air_density\n",
      "wv (m/s):   wind_speed\n",
      "max. wv (m/s):   max_wind_speed\n",
      "wd (deg):   wind_direction\n"
     ]
    }
   ],
   "source": [
    "for i, column in enumerate(data.columns):\n",
    "    print(f'{column}:   {new_columns[i]}')"
   ]
  },
  {
   "cell_type": "code",
   "execution_count": 64,
   "metadata": {},
   "outputs": [
    {
     "data": {
      "text/html": [
       "<div>\n",
       "<style scoped>\n",
       "    .dataframe tbody tr th:only-of-type {\n",
       "        vertical-align: middle;\n",
       "    }\n",
       "\n",
       "    .dataframe tbody tr th {\n",
       "        vertical-align: top;\n",
       "    }\n",
       "\n",
       "    .dataframe thead th {\n",
       "        text-align: right;\n",
       "    }\n",
       "</style>\n",
       "<table border=\"1\" class=\"dataframe\">\n",
       "  <thead>\n",
       "    <tr style=\"text-align: right;\">\n",
       "      <th></th>\n",
       "      <th>date_time</th>\n",
       "      <th>pressure</th>\n",
       "      <th>temp</th>\n",
       "      <th>dew_temp</th>\n",
       "      <th>rel_hum</th>\n",
       "      <th>max_vap_press</th>\n",
       "      <th>actual_vap_press</th>\n",
       "      <th>vap_press_deficit</th>\n",
       "      <th>spec_hum</th>\n",
       "      <th>wv_conc</th>\n",
       "      <th>air_density</th>\n",
       "      <th>wind_speed</th>\n",
       "      <th>max_wind_speed</th>\n",
       "      <th>wind_direction</th>\n",
       "    </tr>\n",
       "  </thead>\n",
       "  <tbody>\n",
       "    <tr>\n",
       "      <th>0</th>\n",
       "      <td>01.01.2009 00:10:00</td>\n",
       "      <td>996.52</td>\n",
       "      <td>-8.02</td>\n",
       "      <td>-8.90</td>\n",
       "      <td>93.3</td>\n",
       "      <td>3.33</td>\n",
       "      <td>3.11</td>\n",
       "      <td>0.22</td>\n",
       "      <td>1.94</td>\n",
       "      <td>3.12</td>\n",
       "      <td>1307.75</td>\n",
       "      <td>1.03</td>\n",
       "      <td>1.75</td>\n",
       "      <td>152.3</td>\n",
       "    </tr>\n",
       "    <tr>\n",
       "      <th>1</th>\n",
       "      <td>01.01.2009 00:20:00</td>\n",
       "      <td>996.57</td>\n",
       "      <td>-8.41</td>\n",
       "      <td>-9.28</td>\n",
       "      <td>93.4</td>\n",
       "      <td>3.23</td>\n",
       "      <td>3.02</td>\n",
       "      <td>0.21</td>\n",
       "      <td>1.89</td>\n",
       "      <td>3.03</td>\n",
       "      <td>1309.80</td>\n",
       "      <td>0.72</td>\n",
       "      <td>1.50</td>\n",
       "      <td>136.1</td>\n",
       "    </tr>\n",
       "    <tr>\n",
       "      <th>2</th>\n",
       "      <td>01.01.2009 00:30:00</td>\n",
       "      <td>996.53</td>\n",
       "      <td>-8.51</td>\n",
       "      <td>-9.31</td>\n",
       "      <td>93.9</td>\n",
       "      <td>3.21</td>\n",
       "      <td>3.01</td>\n",
       "      <td>0.20</td>\n",
       "      <td>1.88</td>\n",
       "      <td>3.02</td>\n",
       "      <td>1310.24</td>\n",
       "      <td>0.19</td>\n",
       "      <td>0.63</td>\n",
       "      <td>171.6</td>\n",
       "    </tr>\n",
       "    <tr>\n",
       "      <th>3</th>\n",
       "      <td>01.01.2009 00:40:00</td>\n",
       "      <td>996.51</td>\n",
       "      <td>-8.31</td>\n",
       "      <td>-9.07</td>\n",
       "      <td>94.2</td>\n",
       "      <td>3.26</td>\n",
       "      <td>3.07</td>\n",
       "      <td>0.19</td>\n",
       "      <td>1.92</td>\n",
       "      <td>3.08</td>\n",
       "      <td>1309.19</td>\n",
       "      <td>0.34</td>\n",
       "      <td>0.50</td>\n",
       "      <td>198.0</td>\n",
       "    </tr>\n",
       "    <tr>\n",
       "      <th>4</th>\n",
       "      <td>01.01.2009 00:50:00</td>\n",
       "      <td>996.51</td>\n",
       "      <td>-8.27</td>\n",
       "      <td>-9.04</td>\n",
       "      <td>94.1</td>\n",
       "      <td>3.27</td>\n",
       "      <td>3.08</td>\n",
       "      <td>0.19</td>\n",
       "      <td>1.92</td>\n",
       "      <td>3.09</td>\n",
       "      <td>1309.00</td>\n",
       "      <td>0.32</td>\n",
       "      <td>0.63</td>\n",
       "      <td>214.3</td>\n",
       "    </tr>\n",
       "  </tbody>\n",
       "</table>\n",
       "</div>"
      ],
      "text/plain": [
       "             date_time  pressure  temp  dew_temp  rel_hum  max_vap_press  \\\n",
       "0  01.01.2009 00:10:00    996.52 -8.02     -8.90     93.3           3.33   \n",
       "1  01.01.2009 00:20:00    996.57 -8.41     -9.28     93.4           3.23   \n",
       "2  01.01.2009 00:30:00    996.53 -8.51     -9.31     93.9           3.21   \n",
       "3  01.01.2009 00:40:00    996.51 -8.31     -9.07     94.2           3.26   \n",
       "4  01.01.2009 00:50:00    996.51 -8.27     -9.04     94.1           3.27   \n",
       "\n",
       "   actual_vap_press  vap_press_deficit  spec_hum  wv_conc  air_density  \\\n",
       "0              3.11               0.22      1.94     3.12      1307.75   \n",
       "1              3.02               0.21      1.89     3.03      1309.80   \n",
       "2              3.01               0.20      1.88     3.02      1310.24   \n",
       "3              3.07               0.19      1.92     3.08      1309.19   \n",
       "4              3.08               0.19      1.92     3.09      1309.00   \n",
       "\n",
       "   wind_speed  max_wind_speed  wind_direction  \n",
       "0        1.03            1.75           152.3  \n",
       "1        0.72            1.50           136.1  \n",
       "2        0.19            0.63           171.6  \n",
       "3        0.34            0.50           198.0  \n",
       "4        0.32            0.63           214.3  "
      ]
     },
     "execution_count": 64,
     "metadata": {},
     "output_type": "execute_result"
    }
   ],
   "source": [
    "data.columns = new_columns\n",
    "data.head()"
   ]
  },
  {
   "cell_type": "markdown",
   "metadata": {},
   "source": [
    "We check for missing values and find that there are none. "
   ]
  },
  {
   "cell_type": "code",
   "execution_count": 65,
   "metadata": {},
   "outputs": [
    {
     "data": {
      "text/plain": [
       "date_time            0\n",
       "pressure             0\n",
       "temp                 0\n",
       "dew_temp             0\n",
       "rel_hum              0\n",
       "max_vap_press        0\n",
       "actual_vap_press     0\n",
       "vap_press_deficit    0\n",
       "spec_hum             0\n",
       "wv_conc              0\n",
       "air_density          0\n",
       "wind_speed           0\n",
       "max_wind_speed       0\n",
       "wind_direction       0\n",
       "dtype: int64"
      ]
     },
     "execution_count": 65,
     "metadata": {},
     "output_type": "execute_result"
    }
   ],
   "source": [
    "data.isnull().sum()\n"
   ]
  },
  {
   "cell_type": "markdown",
   "metadata": {},
   "source": [
    "Convert date_time to type datetime and extract values for various timescales"
   ]
  },
  {
   "cell_type": "code",
   "execution_count": 66,
   "metadata": {},
   "outputs": [],
   "source": [
    "data['date_time'] = pd.to_datetime(data['date_time'], format='%d.%m.%Y %H:%M:%S')\n",
    "\n",
    "data['year'] = [value.year for value in data['date_time']]\n",
    "data['month'] = [value.month for value in data['date_time']]\n",
    "data['day'] = [value.day for value in data['date_time']]\n",
    "data['hour'] = [value.hour for value in data['date_time']]\n",
    "data['minute'] = [value.minute for value in data['date_time']]\n"
   ]
  },
  {
   "cell_type": "code",
   "execution_count": 67,
   "metadata": {},
   "outputs": [],
   "source": [
    "def circularise(series):\n",
    "    # shrink to 0 to 2*pi\n",
    "    min = np.min(series)\n",
    "    max = np.max(series)\n",
    "    series = series - min\n",
    "    series = series*2*np.pi/max\n",
    "\n",
    "    sine = np.sin(series)\n",
    "    cosine = np.cos(series)\n",
    "\n",
    "    return (sine, cosine)\n",
    "\n",
    "\n",
    "\n",
    "\n",
    "# create modellable feature list and add sine and cosine features\n"
   ]
  },
  {
   "cell_type": "code",
   "execution_count": 68,
   "metadata": {},
   "outputs": [],
   "source": [
    "circular_features = ['month', 'day', 'hour', 'minute', 'wind_direction']\n",
    "\n",
    "for feature in circular_features:\n",
    "    sine, cosine = circularise(data[feature])\n",
    "    data[f'{feature}_sine'] = sine\n",
    "    data[f'{feature}_sine_slant'] = np.sign(cosine)\n"
   ]
  },
  {
   "cell_type": "code",
   "execution_count": 70,
   "metadata": {},
   "outputs": [
    {
     "data": {
      "text/plain": [
       "Index(['date_time', 'pressure', 'temp', 'dew_temp', 'rel_hum', 'max_vap_press',\n",
       "       'actual_vap_press', 'vap_press_deficit', 'spec_hum', 'wv_conc',\n",
       "       'air_density', 'wind_speed', 'max_wind_speed', 'wind_direction', 'year',\n",
       "       'month', 'day', 'hour', 'minute', 'month_sine', 'month_sine_slant',\n",
       "       'day_sine', 'day_sine_slant', 'hour_sine', 'hour_sine_slant',\n",
       "       'minute_sine', 'minute_sine_slant', 'wind_direction_sine',\n",
       "       'wind_direction_sine_slant'],\n",
       "      dtype='object')"
      ]
     },
     "execution_count": 70,
     "metadata": {},
     "output_type": "execute_result"
    }
   ],
   "source": [
    "data.columns\n"
   ]
  },
  {
   "cell_type": "code",
   "execution_count": 56,
   "metadata": {},
   "outputs": [
    {
     "data": {
      "text/plain": [
       "1"
      ]
     },
     "execution_count": 56,
     "metadata": {},
     "output_type": "execute_result"
    }
   ],
   "source": [
    "np.sign(100)\n",
    "\n"
   ]
  },
  {
   "cell_type": "markdown",
   "metadata": {},
   "source": [
    "EDA\n",
    "- line charts over years for different times of the day\n",
    "- temps in different months for different times of the day\n",
    "- distribution of wind direction\n",
    "\n",
    "FE\n",
    "- Split date time\n",
    "    - year index (?)\n",
    "    - month\n",
    "    - week of month\n",
    "    (don't use week of year as that will need 53 columns. splitting it out into month and week of month needs just 16 columns)\n",
    "    - am/pm (?)\n",
    "    - hours as categories?\n",
    "    - year\n",
    "    - convert months, hours, and minutes to circular ordinal (from ints)\n",
    "- anomalies\n",
    "- drop vapour pressure deficit?\n",
    "- featurise direction (ordinal, circular) https://www.isical.ac.in/~asu/TR/TechRepASU201701.pdf \n",
    "\n",
    "\n",
    "\n",
    "\n"
   ]
  },
  {
   "cell_type": "code",
   "execution_count": null,
   "metadata": {},
   "outputs": [],
   "source": [
    "# Make dictionary for months (is it needed if I'm going to make months circular ordinal?)\n",
    "# months_list = [\"JAN\", \"FEB\", \"MAR\", \"APR\", \"MAY\", \"JUN\", \"JUL\", \"AUG\", \"SEP\", \"OCT\", \"NOV\", \"DEC\"]\n",
    "# months_dict = {i:months_list[i-1] for i in range(1,13)}"
   ]
  }
 ],
 "metadata": {
  "interpreter": {
   "hash": "4aafb3d6c1901e80df4be2536ccf36cfbc00bc600746914c0577564258c3a462"
  },
  "kernelspec": {
   "display_name": "Python 3.8.13 ('weather-prediction')",
   "language": "python",
   "name": "python3"
  },
  "language_info": {
   "codemirror_mode": {
    "name": "ipython",
    "version": 3
   },
   "file_extension": ".py",
   "mimetype": "text/x-python",
   "name": "python",
   "nbconvert_exporter": "python",
   "pygments_lexer": "ipython3",
   "version": "3.8.13"
  },
  "orig_nbformat": 4
 },
 "nbformat": 4,
 "nbformat_minor": 2
}
