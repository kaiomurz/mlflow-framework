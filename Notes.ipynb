{
 "cells": [
  {
   "cell_type": "markdown",
   "metadata": {},
   "source": [
    "### Todo\n",
    "- ~~create multivariate_fe.py module~~\n",
    "- <s>create train.py module and run in local system with linear regression without MLProject or separate model module</s>\n",
    "- <s>create linear regression module</s>\n",
    "- <s>add grid search to linear regression module and log metrics and best model</s>\n",
    "- add other sklearn methods and xgboost\n",
    "- pick best model and serve\n",
    "- create MLproject with entry points for clean and train on \n",
    "    - conda\n",
    "    - Docker\n",
    "- add typing and docstrings\n",
    "- write tests\n",
    "- write to Sqlite\n",
    "\n",
    "- Add grid search parameters etc to MLproject file\n",
    "- add other conventional ML\n",
    "- generate training charts of best models\n",
    "- add single output NNs\n",
    "- and multiple output NNs\n",
    "- add time series models"
   ]
  },
  {
   "cell_type": "markdown",
   "metadata": {},
   "source": [
    "### Objective and ideas\n",
    "\n",
    "#### _Objective_\n",
    "Build and end-to-end machine learning engineering pipeline that\n",
    "- cleans data\n",
    "- engineers features\n",
    "- trains a variety of models and tunes their hyperparameters\n",
    "- generates performance charts for each model type\n",
    "- automatically picks the best model and serves it through a REST API endpoint.  \n",
    "\n",
    "the pipeline is packaged and uploaded to github from where it can be periodically run using ```mlflow run <github URL>```\n",
    "\n",
    "#### _Ideas_\n",
    "\n",
    "Forecast whether it will rain or snow 6, 12, 18 and 24 hours from now.  (i.e. whether temp is within 0.1% of dew_temp)\n",
    "Assess predictions on how much better they are than baseline of markov chain predictions.  \n",
    "\n",
    "- EDA\n",
    "- Feature extraction and engineering\n",
    "- Create a data cleaning/feature extraction pipeline\n",
    "- Use as many techniques/methods as possible and run experiments on MLFlow/Kubeflow in the cloud\n",
    "    - Conventional univariate and multivariate time series  \n",
    "    - Conventional ML (logistic regression, random forests, boosting)  \n",
    "    - Neural networks  \n",
    "    - Prophet (?)\n",
    "    - sktime (?)\n",
    "- Use Kubeflow and MLFlow to test various models in the cloud\n",
    "- Simulate addition of new data and monitoring of data drift and concept drift\n",
    "- Retrain models as necessary\n",
    "- Provide API endpoint\n",
    "\n",
    "Optional\n",
    "- Anomaly detection\n",
    "- Use methods listed in time series CV\n",
    "- Using AWS (https://subscription.packtpub.com/book/data/9781801816847/pref)\n",
    "\n"
   ]
  },
  {
   "cell_type": "markdown",
   "metadata": {},
   "source": [
    "### EDA\n",
    "https://medium.com/analytics-vidhya/how-to-guide-on-exploratory-data-analysis-for-time-series-data-34250ff1d04f  \n",
    "https://medium.com/analytics-vidhya/exploratory-data-analysis-eda-of-non-seasonal-time-series-51923db4006e  \n",
    "https://blog.jovian.ai/time-series-analysis-data-exploration-and-visualization-9dbede5cbb8d  \n",
    "https://www.youtube.com/watch?v=ztPYOliaxtQ  \n",
    "https://www.youtube.com/watch?v=3sH1kisAK9s  \n",
    "https://bookdown.org/arthursmalliii/tsf/exploratory-analysis-of-time-series-data-examples.html  \n",
    "https://subscription.packtpub.com/book/data/9781789537253/10/ch10lvl1sec68/understanding-the-time-series-dataset  \n",
    "https://www.oreilly.com/library/view/practical-time-series/9781492041641/ch03.html  \n",
    "\n",
    "Verify sine/cosine_sign plot of circular variables   \n",
    "histograms of various variables  \n",
    "Temporal patterns in wind speed\n",
    "\n",
    "\n",
    "\n",
    "circular chart of distribution of wind direction  \n",
    "line charts  \n",
    "correlation of temp, etc with figure x ticks ago.  \n",
    "correlations between various water vapour metrics  \n",
    "monthwise distribution of values.  \n",
    "\n",
    "\n",
    "\n"
   ]
  },
  {
   "cell_type": "markdown",
   "metadata": {},
   "source": [
    "### Feature extraction and engineering\n",
    "https://www.sas.com/content/dam/SAS/support/en/sas-global-forum-proceedings/2018/2020-2018.pdf  \n",
    "https://www.analyticsvidhya.com/blog/2019/12/6-powerful-feature-engineering-techniques-time-series/  \n",
    "https://towardsdatascience.com/time-series-feature-extraction-on-really-large-data-samples-b732f805ba0e  \n",
    "https://www.sciencedirect.com/science/article/pii/S2352711020300017  \n",
    "https://analyticsindiamag.com/a-guide-to-feature-engineering-in-time-series-with-tsfresh/  \n",
    "https://dl.acm.org/doi/10.5555/1608790.1608799  \n",
    "https://www.turing.ac.uk/research/research-projects/sktime-toolbox-data-science-time-series  \n",
    "https://ui.adsabs.harvard.edu/abs/2020SoftX..1100456B/abstract  \n",
    "https://link.springer.com/content/pdf/10.1007/978-3-319-18032-8_32.pdf  \n",
    "\n",
    "https://www.analyticsvidhya.com/blog/2019/12/6-powerful-feature-engineering-techniques-time-series/  \n",
    "https://medium.com/data-science-at-microsoft/introduction-to-feature-engineering-for-time-series-forecasting-620aa55fcab0  \n",
    "https://towardsdatascience.com/top-4-time-series-feature-engineering-lessons-from-kaggle-ca2d4c9cbbe7  \n",
    "https://www.kdnuggets.com/2022/03/building-tractable-feature-engineering-pipeline-multivariate-time-series.html  \n",
    "https://livebook.manning.com/book/real-world-machine-learning/chapter-7/  \n",
    "dealing circular/directional features https://www.isical.ac.in/~asu/TR/TechRepASU201701.pdf \n",
    "- Scale the data to between 0 and 2*pi and take the sine. \n",
    "    - but in this case two very different values could emerge as 0 (eg. noon and midnight)\n",
    "    - in that case, we can add a column containing the sign of the cosine, which is the 'slant' of the sine variable. \n",
    "    - these two variables combined will capture the exact location of the point in the circle.\n",
    "\n",
    "one-hot encode 'slant' variables\n",
    "\n",
    "\n",
    "\n",
    "\n",
    " \n",
    "\n",
    "\n",
    "\n"
   ]
  },
  {
   "cell_type": "markdown",
   "metadata": {},
   "source": [
    "### Modelling\n",
    "\n",
    "Regression on variables from normal and power law(vapour deficit, wind speed, max wind-speed)  \n",
    "Univariate modelling of all input features and then using them compute target features (so develop a model that uses input features and predicts target features of the same period) \n",
    "\n",
    "##### Multi-output regression\n",
    "https://scikit-learn.org/stable/modules/generated/sklearn.multioutput.MultiOutputRegressor.html  \n",
    "https://machinelearningmastery.com/deep-learning-models-for-multi-output-regression/  \n",
    "https://towardsdatascience.com/building-a-multi-output-convolutional-neural-network-with-keras-ed24c7bc1178  \n",
    "https://www.youtube.com/watch?v=JN08CqZKKkA  \n",
    "https://www.relataly.com/time-series-forecasting-multi-step-regression-using-neural-networks-with-multiple-outputs-in-python/5800/  \n",
    "https://www.kaggle.com/nicapotato/keras-timeseries-multi-step-multi-output  \n",
    "https://machinelearningmastery.com/how-to-develop-machine-learning-models-for-multivariate-multi-step-air-pollution-time-series-forecasting/  \n",
    "https://towardsdatascience.com/multi-step-time-series-forecasting-with-arima-lightgbm-and-prophet  \n"
   ]
  },
  {
   "cell_type": "markdown",
   "metadata": {},
   "source": [
    "### Dataset\n",
    "https://www.kaggle.com/datasets/mnassrib/jena-climate  \n",
    "wget https://s3.amazonaws.com/keras-datasets/jena_climate_2009_2016.csv.zip  \n",
    "unzip jena_climate_2009_2016.csv.zip"
   ]
  },
  {
   "cell_type": "markdown",
   "metadata": {},
   "source": [
    "### Models development\n",
    "feature selection using tree-based feature importance for LR\n"
   ]
  },
  {
   "cell_type": "markdown",
   "metadata": {},
   "source": [
    "### Project outline\n",
    "\n",
    "Create an MLproject that uses a Docker images to \n",
    "- access data from local machine\n",
    "- clean it\n",
    "- run various experiments and logs models of each type with the best hyperparameters (on validation data) to the local machine\n",
    "    - conventional ML\n",
    "    - neural networks for tabular\n",
    "    - conventional time series \n",
    "    - neural networks for time series\n",
    "- upsert tracking data to local SQlite server\n",
    "- assess best \n",
    "\n",
    "Coordinate containers using Kubernetes.  \n",
    "Execute on EKS.  \n",
    "\n",
    "create entire pipeline for one flavour and type of model first and modularly add other flavours and types  \n",
    "\n",
    "\n",
    "[Create Reusable ML Modules with MLflow Projects & Docker](https://towardsdatascience.com/create-reusable-ml-modules-with-mlflow-projects-docker-33cd722c93c4)  \n",
    "\n",
    "project structure\n",
    "- cleaning script\n",
    "- driver code \n",
    "    - where you can add each model when it becomes available\n",
    "    - that calls each model script and runs experiments. \n",
    "- script for each flavour/model (eg. a file for sklearn tabular models, another for sklearn time series models, and likewise for TF and time series libraries). chooses best tuned model of that flavour and logs it\n",
    "(where to put mlflow.run()?)\n",
    "\n",
    "\n",
    "\n",
    "\n",
    "\n",
    "Model selection on subset of data?  \n",
    "Hyperparameter tuning on full dataset\n",
    "\n",
    "Run project from github?  \n",
    "Execute project on a kubernetes cluster  \n",
    "Send data to remote, cloud-based tracking server  \n",
    "\n"
   ]
  },
  {
   "cell_type": "markdown",
   "metadata": {},
   "source": [
    "### MLflow\n",
    "Simulated new data as shown [here](https://towardsdatascience.com/machine-learning-adventures-with-mlflow-64127713b0a1). See section \"Why didn’t we use the entire data set by merging the samples?\"\n",
    "\n",
    "Create a pipeline to load and clean data and run various models and log them.  \n",
    "Use [hyperparameter tuning](https://github.com/mlflow/mlflow/blob/master/examples/hyperparam/README.rst) and pick the best model of a certain type and register that.  \n",
    "Select the best of the best models and serve that.\n",
    "make a [fast api wrapper](https://medium.com/analytics-vidhya/fundamentals-of-mlops-part-4-tracking-with-mlflow-deployment-with-fastapi-61614115436)\n",
    "\n",
    "monitor model and concept drift using MLflow and retrain models and pick best model.  \n",
    "\n",
    "Building a [multistep workflow](https://www.mlflow.org/docs/latest/projects.html#building-multistep-workflows) to run various different models and use resulting parameters in future steps.  \n",
    "Examples  \n",
    "\n",
    "_**Hyperparameter Tuning:** \"Using mlflow.projects.run() you can launch multiple runs in parallel either on the local machine or on a cloud platform like Databricks.Your driver program can then inspect the metrics from each run in real time to cancel runs, launch new ones, or select the best performing run on a target metric.\"_   \n",
    "_**Crossvalidation:**: \"Using mlflow.projects.run() you can launch multiple runs in parallel either on the local machine or on a cloud platform like Databricks. Your driver program can then inspect the metrics from each run in real time to cancel runs, launch new ones, or select the best performing run on a target metric.\"_\n",
    "\n",
    "Query runs [programatically](https://www.mlflow.org/docs/latest/tracking.html#querying-runs-programmatically)\n",
    "\n",
    "\n",
    "\n",
    "Crontab to regularly run docker containers to monitor concept and data drift and run experiments.  \n",
    "\n",
    "Implement [CI/CD pipeline](https://servian.dev/scaling-the-wall-between-data-scientist-and-data-engineer-51b0a99da073) to push chosen models to deployment after being improved.\n",
    "\n",
    "Deploy tracking server in SQlite.  \n",
    "\n"
   ]
  },
  {
   "cell_type": "markdown",
   "metadata": {},
   "source": [
    "### Docker\n",
    "store data in folder from which Docker container is run. mount the folder for use by Docker."
   ]
  },
  {
   "cell_type": "markdown",
   "metadata": {},
   "source": [
    "### Kubeflow\n",
    "Google search for kubeflow data drift  \n",
    "https://cloud.google.com/blog/topics/developers-practitioners/event-triggered-detection-data-drift-ml-workflows  \n",
    "\n"
   ]
  },
  {
   "cell_type": "markdown",
   "metadata": {},
   "source": [
    "### Resources\n",
    "Auto-ML book"
   ]
  }
 ],
 "metadata": {
  "interpreter": {
   "hash": "4aafb3d6c1901e80df4be2536ccf36cfbc00bc600746914c0577564258c3a462"
  },
  "kernelspec": {
   "display_name": "Python 3.10.4 ('weather-prediction')",
   "language": "python",
   "name": "python3"
  },
  "language_info": {
   "name": "python",
   "version": "3.10.4"
  },
  "orig_nbformat": 4
 },
 "nbformat": 4,
 "nbformat_minor": 2
}
