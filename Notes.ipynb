{
 "cells": [
  {
   "cell_type": "markdown",
   "metadata": {},
   "source": [
    "### Objective and ideas\n",
    "Forecast temperature and other weather variables 6, 12, 18 and 24 hours ahead.  \n",
    "Assess predictions on how much better they are than baseline of markov chain predictions.  \n",
    "\n",
    "- EDA\n",
    "- Feature extraction and engineering\n",
    "- Create a data cleaning/feature extraction pipeline\n",
    "- Use as many techniques/methods as possible and run experiments on MLFlow/Kubeflow in the cloud\n",
    "    - Conventional univariate and multivariate time series  \n",
    "    - Conventional ML (logistic regression, random forests, boosting)  \n",
    "    - Neural networks  \n",
    "    - Prophet (?)\n",
    "    - sktime (?)\n",
    "- Use Kubeflow and MLFlow to test various models in the cloud\n",
    "- Simulate addition of new data and monitoring of data drift and concept drift\n",
    "- Retrain models as necessary\n",
    "- Provide API endpoint\n",
    "\n",
    "Optional\n",
    "- Anomaly detection\n",
    "- Use methods listed in time series CV\n",
    "- Using AWS (https://subscription.packtpub.com/book/data/9781801816847/pref)\n",
    "\n"
   ]
  },
  {
   "cell_type": "markdown",
   "metadata": {},
   "source": [
    "### EDA\n",
    "https://medium.com/analytics-vidhya/how-to-guide-on-exploratory-data-analysis-for-time-series-data-34250ff1d04f  \n",
    "https://medium.com/analytics-vidhya/exploratory-data-analysis-eda-of-non-seasonal-time-series-51923db4006e  \n",
    "https://blog.jovian.ai/time-series-analysis-data-exploration-and-visualization-9dbede5cbb8d  \n",
    "https://www.youtube.com/watch?v=ztPYOliaxtQ  \n",
    "https://www.youtube.com/watch?v=3sH1kisAK9s  \n",
    "https://bookdown.org/arthursmalliii/tsf/exploratory-analysis-of-time-series-data-examples.html  \n",
    "https://subscription.packtpub.com/book/data/9781789537253/10/ch10lvl1sec68/understanding-the-time-series-dataset  \n",
    "https://www.oreilly.com/library/view/practical-time-series/9781492041641/ch03.html  \n",
    "\n",
    "\n",
    "\n"
   ]
  },
  {
   "cell_type": "markdown",
   "metadata": {},
   "source": [
    "### Feature extraction and engineering\n",
    "https://www.sas.com/content/dam/SAS/support/en/sas-global-forum-proceedings/2018/2020-2018.pdf  \n",
    "https://www.analyticsvidhya.com/blog/2019/12/6-powerful-feature-engineering-techniques-time-series/ \n",
    "https://towardsdatascience.com/time-series-feature-extraction-on-really-large-data-samples-b732f805ba0e \n",
    "https://www.sciencedirect.com/science/article/pii/S2352711020300017  \n",
    "https://analyticsindiamag.com/a-guide-to-feature-engineering-in-time-series-with-tsfresh/  \n",
    "https://dl.acm.org/doi/10.5555/1608790.1608799  \n",
    "https://www.turing.ac.uk/research/research-projects/sktime-toolbox-data-science-time-series  \n",
    "https://ui.adsabs.harvard.edu/abs/2020SoftX..1100456B/abstract  \n",
    "https://link.springer.com/content/pdf/10.1007/978-3-319-18032-8_32.pdf  \n",
    "\n",
    "https://www.analyticsvidhya.com/blog/2019/12/6-powerful-feature-engineering-techniques-time-series/  \n",
    "https://medium.com/data-science-at-microsoft/introduction-to-feature-engineering-for-time-series-forecasting-620aa55fcab0  \n",
    "https://towardsdatascience.com/top-4-time-series-feature-engineering-lessons-from-kaggle-ca2d4c9cbbe7  \n",
    "https://www.kdnuggets.com/2022/03/building-tractable-feature-engineering-pipeline-multivariate-time-series.html  \n",
    "https://livebook.manning.com/book/real-world-machine-learning/chapter-7/  \n",
    "\n",
    " \n",
    "\n",
    "\n",
    "\n"
   ]
  },
  {
   "cell_type": "markdown",
   "metadata": {},
   "source": [
    "### Multi-output regression\n",
    "https://scikit-learn.org/stable/modules/generated/sklearn.multioutput.MultiOutputRegressor.html  \n",
    "https://machinelearningmastery.com/deep-learning-models-for-multi-output-regression/  \n",
    "https://towardsdatascience.com/building-a-multi-output-convolutional-neural-network-with-keras-ed24c7bc1178  \n",
    "https://www.youtube.com/watch?v=JN08CqZKKkA  \n",
    "https://www.relataly.com/time-series-forecasting-multi-step-regression-using-neural-networks-with-multiple-outputs-in-python/5800/  \n",
    "https://www.kaggle.com/nicapotato/keras-timeseries-multi-step-multi-output  \n",
    "https://machinelearningmastery.com/how-to-develop-machine-learning-models-for-multivariate-multi-step-air-pollution-time-series-forecasting/  \n",
    "https://towardsdatascience.com/multi-step-time-series-forecasting-with-arima-lightgbm-and-prophet  \n"
   ]
  },
  {
   "cell_type": "markdown",
   "metadata": {},
   "source": [
    "### Dataset\n",
    "https://www.kaggle.com/datasets/mnassrib/jena-climate  \n",
    "wget https://s3.amazonaws.com/keras-datasets/jena_climate_2009_2016.csv.zip  \n",
    "unzip jena_climate_2009_2016.csv.zip"
   ]
  },
  {
   "cell_type": "markdown",
   "metadata": {},
   "source": [
    "### Kubeflow\n",
    "Google search for kubeflow data drift  \n",
    "https://cloud.google.com/blog/topics/developers-practitioners/event-triggered-detection-data-drift-ml-workflows  \n",
    "\n"
   ]
  },
  {
   "cell_type": "markdown",
   "metadata": {},
   "source": [
    "### Resources\n",
    "Auto-ML book"
   ]
  }
 ],
 "metadata": {
  "interpreter": {
   "hash": "4aafb3d6c1901e80df4be2536ccf36cfbc00bc600746914c0577564258c3a462"
  },
  "kernelspec": {
   "display_name": "Python 3.10.4 ('weather-prediction')",
   "language": "python",
   "name": "python3"
  },
  "language_info": {
   "name": "python",
   "version": "3.10.4"
  },
  "orig_nbformat": 4
 },
 "nbformat": 4,
 "nbformat_minor": 2
}
